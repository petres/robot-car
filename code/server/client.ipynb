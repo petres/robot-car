{
 "cells": [
  {
   "cell_type": "code",
   "execution_count": 1,
   "metadata": {},
   "outputs": [],
   "source": [
    "import socket\n",
    "import time\n",
    "import queue\n",
    "import threading"
   ]
  },
  {
   "cell_type": "code",
   "execution_count": 36,
   "metadata": {},
   "outputs": [],
   "source": [
    "class Client(object):\n",
    "    host = '192.168.4.1'\n",
    "    port = 100\n",
    "    \n",
    "    heartbeat_message = \"{Heartbeat}\"\n",
    "    heartbeat_freq = 1000\n",
    "    \n",
    "    s = None\n",
    "    last_heartbeat_time = 0\n",
    "    \n",
    "    com_t = None\n",
    "    \n",
    "    send_q = queue.Queue()\n",
    "    got_q = queue.Queue()\n",
    "\n",
    "    stop = False\n",
    "    \n",
    "    def __init__(self):\n",
    "        pass\n",
    "        \n",
    "    def connect(self):\n",
    "        self.stop = False\n",
    "        self.s = socket.socket()\n",
    "        self.s.connect((self.host, self.port))  # connect to the server\n",
    "        self.com_t = threading.Thread(target=self._keepAliveAndSendMessages, args=[])\n",
    "        self.com_t.start()\n",
    "        \n",
    "    def disconnect(self):\n",
    "        self.stop = True\n",
    "        self.com_t.join()\n",
    "        self.s.close()\n",
    "        \n",
    "    def isAlive(self):\n",
    "        # print(self.last_heartbeat_time)\n",
    "        return time.time_ns() - self.last_heartbeat_time < 2_000_000_000\n",
    "        \n",
    "    def send(self, m, r = False):\n",
    "        self.send_q.put(m)\n",
    "        if r:\n",
    "            return self.got_q.get()\n",
    "        \n",
    "    def _keepAliveAndSendMessages(self):\n",
    "        while not self.stop:\n",
    "            self._checkHeartbeat()\n",
    "            \n",
    "            message = self.s.recv(1024).decode()\n",
    "            if message != self.heartbeat_message:\n",
    "                print('D: ' + message)\n",
    "                self.got_q.put(message)\n",
    "                \n",
    "            try:\n",
    "                message = self.send_q.get_nowait()\n",
    "                self.s.send(message.encode())\n",
    "            except queue.Empty:\n",
    "                time.sleep(0.01)  # sleep if no items in queue\n",
    "    \n",
    "    def _checkHeartbeat(self):\n",
    "        if time.time_ns() - self.last_heartbeat_time > 1_000_000 * self.heartbeat_freq:\n",
    "            self._sendHeartbeat()\n",
    "            \n",
    "    def _sendHeartbeat(self):\n",
    "        print('h')\n",
    "        self.s.send(self.heartbeat_message.encode())\n",
    "        self.last_heartbeat_time = time.time_ns()\n",
    "        \n",
    "c = Client()"
   ]
  },
  {
   "cell_type": "code",
   "execution_count": 41,
   "metadata": {},
   "outputs": [
    {
     "name": "stdout",
     "output_type": "stream",
     "text": [
      "h\n"
     ]
    },
    {
     "name": "stdout",
     "output_type": "stream",
     "text": [
      "h\n",
      "h\n",
      "h\n",
      "h\n",
      "h\n"
     ]
    }
   ],
   "source": [
    "\n",
    "c.connect()"
   ]
  },
  {
   "cell_type": "code",
   "execution_count": 42,
   "metadata": {},
   "outputs": [
    {
     "name": "stdout",
     "output_type": "stream",
     "text": [
      "1704764665174485030\n"
     ]
    },
    {
     "data": {
      "text/plain": [
       "True"
      ]
     },
     "execution_count": 42,
     "metadata": {},
     "output_type": "execute_result"
    },
    {
     "name": "stdout",
     "output_type": "stream",
     "text": [
      "h\n",
      "h\n",
      "h\n",
      "h\n",
      "h\n",
      "h\n",
      "h\n",
      "h\n",
      "h\n",
      "h\n",
      "h\n",
      "h\n",
      "h\n",
      "h\n",
      "h\n",
      "h\n",
      "h\n",
      "h\n",
      "h\n",
      "h\n",
      "h\n",
      "h\n",
      "h\n",
      "h\n",
      "h\n",
      "h\n",
      "h\n",
      "h\n",
      "h\n",
      "h\n",
      "h\n",
      "h\n",
      "h\n",
      "h\n",
      "h\n",
      "h\n",
      "h\n",
      "h\n",
      "h\n"
     ]
    }
   ],
   "source": [
    "c.isAlive()"
   ]
  },
  {
   "cell_type": "code",
   "execution_count": 33,
   "metadata": {},
   "outputs": [
    {
     "name": "stdout",
     "output_type": "stream",
     "text": [
      "h\n",
      "h\n"
     ]
    }
   ],
   "source": [
    "c.send('abc')"
   ]
  },
  {
   "cell_type": "code",
   "execution_count": 39,
   "metadata": {},
   "outputs": [],
   "source": [
    "c.disconnect()"
   ]
  }
 ],
 "metadata": {
  "kernelspec": {
   "display_name": "Python 3",
   "language": "python",
   "name": "python3"
  },
  "language_info": {
   "codemirror_mode": {
    "name": "ipython",
    "version": 3
   },
   "file_extension": ".py",
   "mimetype": "text/x-python",
   "name": "python",
   "nbconvert_exporter": "python",
   "pygments_lexer": "ipython3",
   "version": "3.11.6"
  }
 },
 "nbformat": 4,
 "nbformat_minor": 2
}
